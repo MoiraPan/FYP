{
 "cells": [
  {
   "cell_type": "code",
   "execution_count": 9,
   "metadata": {},
   "outputs": [],
   "source": [
    "import socket\n",
    "import random\n",
    "import csv\n",
    "import numpy as np\n",
    "import time\n",
    "from flask import Flask, render_template, send_from_directory"
   ]
  },
  {
   "cell_type": "code",
   "execution_count": 8,
   "metadata": {},
   "outputs": [
    {
     "name": "stdout",
     "output_type": "stream",
     "text": [
      " * Serving Flask app \"__main__\" (lazy loading)\n",
      " * Environment: production\n",
      "   WARNING: Do not use the development server in a production environment.\n",
      "   Use a production WSGI server instead.\n",
      " * Debug mode: off\n"
     ]
    },
    {
     "name": "stderr",
     "output_type": "stream",
     "text": [
      " * Running on http://127.0.0.1:5000/ (Press CTRL+C to quit)\n",
      "127.0.0.1 - - [15/Mar/2019 22:29:40] \"GET /data/data_stored.csv HTTP/1.1\" 404 -\n",
      "127.0.0.1 - - [15/Mar/2019 22:29:41] \"GET /data/data_stored.csv HTTP/1.1\" 404 -\n",
      "127.0.0.1 - - [15/Mar/2019 22:29:42] \"GET /data/data_stored.csv HTTP/1.1\" 404 -\n",
      "127.0.0.1 - - [15/Mar/2019 22:29:43] \"GET /data/data_stored.csv HTTP/1.1\" 404 -\n"
     ]
    }
   ],
   "source": [
    "app = Flask(__name__)\n",
    "@app.route(\"/\")\n",
    "@app.route(\"/chart\")\n",
    "def chart():\n",
    "    return render_template('simple_line_chart.html')\n",
    "\n",
    "if __name__ == \"__main__\":\n",
    "    app.run(threaded=True)"
   ]
  },
  {
   "cell_type": "code",
   "execution_count": 11,
   "metadata": {},
   "outputs": [
    {
     "ename": "KeyboardInterrupt",
     "evalue": "",
     "output_type": "error",
     "traceback": [
      "\u001b[0;31m---------------------------------------------------------------------------\u001b[0m",
      "\u001b[0;31mKeyboardInterrupt\u001b[0m                         Traceback (most recent call last)",
      "\u001b[0;32m<ipython-input-11-b31167228dbd>\u001b[0m in \u001b[0;36m<module>\u001b[0;34m()\u001b[0m\n\u001b[1;32m     55\u001b[0m     \u001b[0mstringarray\u001b[0m\u001b[0;34m=\u001b[0m\u001b[0;34m[\u001b[0m\u001b[0;34m]\u001b[0m\u001b[0;34m\u001b[0m\u001b[0m\n\u001b[1;32m     56\u001b[0m     \u001b[0;31m#control time\u001b[0m\u001b[0;34m\u001b[0m\u001b[0;34m\u001b[0m\u001b[0m\n\u001b[0;32m---> 57\u001b[0;31m     \u001b[0mtime\u001b[0m\u001b[0;34m.\u001b[0m\u001b[0msleep\u001b[0m\u001b[0;34m(\u001b[0m\u001b[0mtime_step\u001b[0m \u001b[0;34m-\u001b[0m \u001b[0;34m(\u001b[0m\u001b[0;34m(\u001b[0m\u001b[0mtime\u001b[0m\u001b[0;34m.\u001b[0m\u001b[0mtime\u001b[0m\u001b[0;34m(\u001b[0m\u001b[0;34m)\u001b[0m \u001b[0;34m-\u001b[0m \u001b[0mstarttime\u001b[0m\u001b[0;34m)\u001b[0m \u001b[0;34m%\u001b[0m \u001b[0mtime_step\u001b[0m\u001b[0;34m)\u001b[0m\u001b[0;34m)\u001b[0m\u001b[0;34m\u001b[0m\u001b[0m\n\u001b[0m",
      "\u001b[0;31mKeyboardInterrupt\u001b[0m: "
     ]
    }
   ],
   "source": [
    "ip = \"10.27.180.39\"\n",
    "port = 6666\n",
    "time_step = 3\n",
    "\n",
    "start = time.clock()\n",
    "starttime = 0\n",
    "\n",
    "stringarray = []\n",
    "array2d = []\n",
    "#generate header\n",
    "header = []\n",
    "header.append('time')\n",
    "for i in range(1,11):\n",
    "    header.append('source' + str(i))\n",
    "#print(header)\n",
    "\n",
    "\n",
    "with open('./static/data_stored.csv', 'w') as newFile:\n",
    "    newFile.truncate()\n",
    "    newFileWriter = csv.writer(newFile)\n",
    "    newFileWriter.writerow(header)\n",
    "\n",
    "s = socket.socket(socket.AF_INET, socket.SOCK_DGRAM)\n",
    "    \n",
    "address = (ip, port)\n",
    "s.bind(address)\n",
    "\n",
    "for t in range(24*3600//time_step):\n",
    "    #generate\n",
    "    value = np.random.randint(0,10,size=10)\n",
    "    #print(value)\n",
    "   \n",
    "    for data in value:\n",
    "        # Keep sending message to server\n",
    "        #server_address = (ip, 8000)\n",
    "        s.sendto(data, address)\n",
    "        #print(data)\n",
    "\n",
    "while True:\n",
    "    for i in range(0,10):\n",
    "        data, addr = s.recvfrom(1024)\n",
    "        stringdata = int.from_bytes(data, byteorder='little', signed=False)\n",
    "        stringarray.append(stringdata)\n",
    "    \n",
    "    #form data rows\n",
    "    data = []\n",
    "    data.append(time.strftime(\"%H:%M:%S\"))\n",
    "    data.extend(stringarray)\n",
    "    \n",
    "    with open('./static/data_stored.csv', 'a') as newFile:\n",
    "        newFileWriter = csv.writer(newFile)\n",
    "        newFileWriter.writerow(data)\n",
    "\n",
    "    #s.close()\n",
    "    stringarray=[]\n",
    "    #control time\n",
    "    time.sleep(time_step - ((time.time() - starttime) % time_step))\n",
    "\n"
   ]
  }
 ],
 "metadata": {
  "kernelspec": {
   "display_name": "Python 3",
   "language": "python",
   "name": "python3"
  },
  "language_info": {
   "codemirror_mode": {
    "name": "ipython",
    "version": 3
   },
   "file_extension": ".py",
   "mimetype": "text/x-python",
   "name": "python",
   "nbconvert_exporter": "python",
   "pygments_lexer": "ipython3",
   "version": "3.6.4"
  }
 },
 "nbformat": 4,
 "nbformat_minor": 2
}
