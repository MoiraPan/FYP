{
 "cells": [
  {
   "cell_type": "code",
   "execution_count": 15,
   "metadata": {},
   "outputs": [],
   "source": [
    "import socket\n",
    "import random\n",
    "import csv\n",
    "import numpy as np\n",
    "import time"
   ]
  },
  {
   "cell_type": "code",
   "execution_count": null,
   "metadata": {},
   "outputs": [],
   "source": [
    "SERVER_IP = \"10.27.214.154\"\n",
    "PORT = 6666\n",
    "client_socket = socket.socket(socket.AF_INET, socket.SOCK_DGRAM)\n",
    "server_socket = socket.socket(socket.AF_INET, socket.SOCK_DGRAM)\n",
    "address = (\"10.27.214.154\", PORT)\n",
    "server_socket.bind(address)\n",
    "while True:\n",
    "    # Keep sending message to server\n",
    "    msg = str(random.randint(1,100))    # Randomly generate number from 1 to 100, change range here\n",
    "    server_address = (SERVER_IP, 8000)\n",
    "    client_socket.sendto(msg.encode(), server_address)\n",
    "\n",
    "while True:\n",
    "    receive_data, client_address = server_socket.recvfrom(1024)\n",
    "    print(\"Receive message! Client IP: %s Data: %s\" % (client_address, receive_data.decode()))\n",
    "    \n",
    "print(\"UDP target IP:\", UDP_IP)\n",
    "print(\"UDP target port:\", UDP_PORT)\n",
    "print(\"message:\", MESSAGE)\n",
    "\n",
    "sock = socket.socket(socket.AF_INET, socket.SOCK_DGRAM) # UDP\n",
    "sock.sendto(bytes(MESSAGE, \"utf-8\"), (UDP_IP, UDP_PORT))"
   ]
  },
  {
   "cell_type": "code",
   "execution_count": 17,
   "metadata": {},
   "outputs": [
    {
     "ename": "KeyboardInterrupt",
     "evalue": "",
     "output_type": "error",
     "traceback": [
      "\u001b[0;31m---------------------------------------------------------------------------\u001b[0m",
      "\u001b[0;31mKeyboardInterrupt\u001b[0m                         Traceback (most recent call last)",
      "\u001b[0;32m<ipython-input-17-58caa3ba48d9>\u001b[0m in \u001b[0;36m<module>\u001b[0;34m()\u001b[0m\n\u001b[1;32m     18\u001b[0m     \u001b[0;31m#s.close()\u001b[0m\u001b[0;34m\u001b[0m\u001b[0;34m\u001b[0m\u001b[0m\n\u001b[1;32m     19\u001b[0m     \u001b[0;31m#control time\u001b[0m\u001b[0;34m\u001b[0m\u001b[0;34m\u001b[0m\u001b[0m\n\u001b[0;32m---> 20\u001b[0;31m     \u001b[0mtime\u001b[0m\u001b[0;34m.\u001b[0m\u001b[0msleep\u001b[0m\u001b[0;34m(\u001b[0m\u001b[0mtime_step\u001b[0m \u001b[0;34m-\u001b[0m \u001b[0;34m(\u001b[0m\u001b[0;34m(\u001b[0m\u001b[0mtime\u001b[0m\u001b[0;34m.\u001b[0m\u001b[0mtime\u001b[0m\u001b[0;34m(\u001b[0m\u001b[0;34m)\u001b[0m \u001b[0;34m-\u001b[0m \u001b[0mstarttime\u001b[0m\u001b[0;34m)\u001b[0m \u001b[0;34m%\u001b[0m \u001b[0mtime_step\u001b[0m\u001b[0;34m)\u001b[0m\u001b[0;34m)\u001b[0m\u001b[0;34m\u001b[0m\u001b[0m\n\u001b[0m",
      "\u001b[0;31mKeyboardInterrupt\u001b[0m: "
     ]
    }
   ],
   "source": [
    "ip = \"10.27.214.154\"\n",
    "start = time.clock()\n",
    "starttime = 0\n",
    "time_step = 1\n",
    "for t in range(24*3600//time_step):\n",
    "    #generate\n",
    "    value = np.random.randint(0,10,size=10)\n",
    "    with open('data_stored.csv', 'a') as newFile:\n",
    "        newFileWriter = csv.writer(newFile)\n",
    "        newFileWriter.writerow(value)\n",
    "    #send and receive\n",
    "    s = socket.socket(socket.AF_INET, socket.SOCK_DGRAM)\n",
    "    #send data\n",
    "    s.sendto(value, (ip, 9999))\n",
    "    #receive data\n",
    "    \n",
    "    #print(s.recv(6666))\n",
    "    #s.close()\n",
    "    #control time\n",
    "    time.sleep(time_step - ((time.time() - starttime) % time_step))"
   ]
  },
  {
   "cell_type": "code",
   "execution_count": null,
   "metadata": {},
   "outputs": [],
   "source": [
    "csv_reader = csv.reader(open('data.csv'))\n",
    "for row in csv_reader:\n",
    "    print row\n",
    "    print type(row)"
   ]
  }
 ],
 "metadata": {
  "kernelspec": {
   "display_name": "Python 3",
   "language": "python",
   "name": "python3"
  },
  "language_info": {
   "codemirror_mode": {
    "name": "ipython",
    "version": 3
   },
   "file_extension": ".py",
   "mimetype": "text/x-python",
   "name": "python",
   "nbconvert_exporter": "python",
   "pygments_lexer": "ipython3",
   "version": "3.6.4"
  }
 },
 "nbformat": 4,
 "nbformat_minor": 2
}
