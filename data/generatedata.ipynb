{
 "cells": [
  {
   "cell_type": "code",
   "execution_count": 38,
   "metadata": {},
   "outputs": [],
   "source": [
    "import socket\n",
    "import random\n",
    "import csv\n",
    "import numpy as np\n",
    "import time"
   ]
  },
  {
   "cell_type": "code",
   "execution_count": null,
   "metadata": {},
   "outputs": [],
   "source": [
    "SERVER_IP = \"10.27.214.154\"\n",
    "PORT = 6666\n",
    "s = socket.socket(socket.AF_INET, socket.SOCK_DGRAM)\n",
    "address = (\"10.27.214.154\", PORT)\n",
    "server_socket.bind(address)\n",
    "for data in value:\n",
    "    # Keep sending message to server\n",
    "    server_address = (SERVER_IP, 8000)\n",
    "    s.sendto(data.encode(), server_address)\n",
    "\n",
    "while True:\n",
    "    receive_data, client_address = s.recvfrom(1024)\n",
    "    print(\"Receive message! Client IP: %s Data: %s\" % (client_address, receive_data.decode()))\n",
    "    \n",
    "#print(\"UDP target IP:\", UDP_IP)\n",
    "#print(\"UDP target port:\", UDP_PORT)\n",
    "#print(\"message:\", MESSAGE)\n",
    "\n",
    "\n",
    "sock.sendto(bytes(MESSAGE, \"utf-8\"), (UDP_IP, UDP_PORT))"
   ]
  },
  {
   "cell_type": "code",
   "execution_count": 43,
   "metadata": {},
   "outputs": [
    {
     "ename": "KeyboardInterrupt",
     "evalue": "",
     "output_type": "error",
     "traceback": [
      "\u001b[0;31m---------------------------------------------------------------------------\u001b[0m",
      "\u001b[0;31mKeyboardInterrupt\u001b[0m                         Traceback (most recent call last)",
      "\u001b[0;32m<ipython-input-43-2432bcd693c6>\u001b[0m in \u001b[0;36m<module>\u001b[0;34m()\u001b[0m\n\u001b[1;32m     22\u001b[0m     \u001b[0;31m#s.close()\u001b[0m\u001b[0;34m\u001b[0m\u001b[0;34m\u001b[0m\u001b[0m\n\u001b[1;32m     23\u001b[0m     \u001b[0;31m#control time\u001b[0m\u001b[0;34m\u001b[0m\u001b[0;34m\u001b[0m\u001b[0m\n\u001b[0;32m---> 24\u001b[0;31m     \u001b[0mtime\u001b[0m\u001b[0;34m.\u001b[0m\u001b[0msleep\u001b[0m\u001b[0;34m(\u001b[0m\u001b[0mtime_step\u001b[0m \u001b[0;34m-\u001b[0m \u001b[0;34m(\u001b[0m\u001b[0;34m(\u001b[0m\u001b[0mtime\u001b[0m\u001b[0;34m.\u001b[0m\u001b[0mtime\u001b[0m\u001b[0;34m(\u001b[0m\u001b[0;34m)\u001b[0m \u001b[0;34m-\u001b[0m \u001b[0mstarttime\u001b[0m\u001b[0;34m)\u001b[0m \u001b[0;34m%\u001b[0m \u001b[0mtime_step\u001b[0m\u001b[0;34m)\u001b[0m\u001b[0;34m)\u001b[0m\u001b[0;34m\u001b[0m\u001b[0m\n\u001b[0m",
      "\u001b[0;31mKeyboardInterrupt\u001b[0m: "
     ]
    }
   ],
   "source": [
    "ip = \"10.27.214.154\"\n",
    "start = time.clock()\n",
    "starttime = 0\n",
    "time_step = 1\n",
    "\n",
    "for t in range(24*3600//time_step):\n",
    "    #generate\n",
    "    data = []\n",
    "    data.append(time.strftime(\"%H:%M:%S\"))\n",
    "    value = np.random.randint(0,10,size=10)\n",
    "    data.extend(value)\n",
    "    with open('data_stored.csv', 'a') as newFile:\n",
    "        newFileWriter = csv.writer(newFile)\n",
    "        newFileWriter.writerow(data)\n",
    "    #send and receive\n",
    "    s = socket.socket(socket.AF_INET, socket.SOCK_DGRAM)\n",
    "    #send data\n",
    "    s.sendto(value, (ip, 9999))\n",
    "    #receive data\n",
    "    \n",
    "    #print(s.recv(6666))\n",
    "    #s.close()\n",
    "    #control time\n",
    "    time.sleep(time_step - ((time.time() - starttime) % time_step))"
   ]
  },
  {
   "cell_type": "code",
   "execution_count": null,
   "metadata": {},
   "outputs": [],
   "source": [
    "csv_reader = csv.reader(open('data.csv'))\n",
    "for row in csv_reader:\n",
    "    print row\n",
    "    print type(row)"
   ]
  }
 ],
 "metadata": {
  "kernelspec": {
   "display_name": "Python 3",
   "language": "python",
   "name": "python3"
  },
  "language_info": {
   "codemirror_mode": {
    "name": "ipython",
    "version": 3
   },
   "file_extension": ".py",
   "mimetype": "text/x-python",
   "name": "python",
   "nbconvert_exporter": "python",
   "pygments_lexer": "ipython3",
   "version": "3.6.4"
  }
 },
 "nbformat": 4,
 "nbformat_minor": 2
}
